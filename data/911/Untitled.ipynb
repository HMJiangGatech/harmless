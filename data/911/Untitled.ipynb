{
 "cells": [
  {
   "cell_type": "code",
   "execution_count": 1,
   "metadata": {},
   "outputs": [],
   "source": [
    "import os\n",
    "\n",
    "import time\n",
    "import datetime\n",
    "\n",
    "import numpy as np\n",
    "import networkx as nx\n",
    "import matplotlib.pyplot as plt\n"
   ]
  },
  {
   "cell_type": "code",
   "execution_count": 2,
   "metadata": {},
   "outputs": [],
   "source": [
    "G = nx.Graph()"
   ]
  },
  {
   "cell_type": "code",
   "execution_count": 4,
   "metadata": {},
   "outputs": [],
   "source": [
    "path = '911.csv'"
   ]
  },
  {
   "cell_type": "code",
   "execution_count": 5,
   "metadata": {},
   "outputs": [],
   "source": [
    "with open(path, 'r') as f:\n",
    "        data = f.readlines()\n",
    "time_list = []\n",
    "zip_time_dict = {}"
   ]
  },
  {
   "cell_type": "code",
   "execution_count": 11,
   "metadata": {},
   "outputs": [],
   "source": [
    "EMS = 'EMS'\n",
    "TRAFFIC = 'TRAFFIC'\n",
    "\n",
    "for i in range(len(data)):\n",
    "    if i > 0:\n",
    "        _,_,_,zip_code, title,time_str,_,_,_ = data[i].strip('\\n').split(',')\n",
    "        if len(zip_code) == 5 and EMS in title:\n",
    "            zip_code, timestamp = int(zip_code), time.mktime(datetime.datetime.strptime(time_str, \"%m/%d/%y %H:%M\").timetuple())\n",
    "            if timestamp >= 0 and timestamp <= 1.59e9:\n",
    "                time_list.append(timestamp)\n",
    "                if zip_code in zip_time_dict:\n",
    "                    zip_time_dict[zip_code].append(timestamp)\n",
    "                else:\n",
    "                    zip_time_dict[zip_code] = [timestamp]\n",
    "                    "
   ]
  },
  {
   "cell_type": "code",
   "execution_count": 13,
   "metadata": {},
   "outputs": [],
   "source": [
    "for zip_code1 in zip_time_dict:\n",
    "    for zip_code2 in zip_time_dict:\n",
    "        if (zip_code1 != zip_code2) and (str(zip_code1)[:3] == str(zip_code2)[:3]):\n",
    "            G.add_edge(zip_code1, zip_code2)"
   ]
  },
  {
   "cell_type": "code",
   "execution_count": 9,
   "metadata": {},
   "outputs": [
    {
     "data": {
      "text/plain": [
       "True"
      ]
     },
     "execution_count": 9,
     "metadata": {},
     "output_type": "execute_result"
    }
   ],
   "source": []
  },
  {
   "cell_type": "code",
   "execution_count": null,
   "metadata": {},
   "outputs": [],
   "source": []
  }
 ],
 "metadata": {
  "kernelspec": {
   "display_name": "Python 3",
   "language": "python",
   "name": "python3"
  },
  "language_info": {
   "codemirror_mode": {
    "name": "ipython",
    "version": 3
   },
   "file_extension": ".py",
   "mimetype": "text/x-python",
   "name": "python",
   "nbconvert_exporter": "python",
   "pygments_lexer": "ipython3",
   "version": "3.7.3"
  }
 },
 "nbformat": 4,
 "nbformat_minor": 2
}
